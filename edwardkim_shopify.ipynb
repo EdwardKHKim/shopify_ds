{
 "cells": [
  {
   "cell_type": "markdown",
   "id": "94bbca6e",
   "metadata": {},
   "source": [
    "## Summer 2022 Data Science Intern Challenge by Edward Kim "
   ]
  },
  {
   "cell_type": "markdown",
   "id": "0137ed36",
   "metadata": {},
   "source": [
    "#### 1. Import libraries"
   ]
  },
  {
   "cell_type": "code",
   "execution_count": 26,
   "id": "9cf82d0f",
   "metadata": {},
   "outputs": [],
   "source": [
    "from csv import reader \n",
    "import math\n",
    "import matplotlib.pyplot as plt\n",
    "import numpy as np \n",
    "import pandas as pd\n",
    "import statistics "
   ]
  },
  {
   "cell_type": "markdown",
   "id": "fa374f62",
   "metadata": {},
   "source": [
    "#### 2. Import data"
   ]
  },
  {
   "cell_type": "code",
   "execution_count": 24,
   "id": "5f5c316c",
   "metadata": {},
   "outputs": [],
   "source": [
    "filename = '2019 Winter Data Science Intern Challenge Data Set - Sheet1.csv'\n",
    "df = pd.read_csv(filename)"
   ]
  },
  {
   "cell_type": "markdown",
   "id": "7db15a53",
   "metadata": {},
   "source": [
    "#### 3. Initial check for missing data"
   ]
  },
  {
   "cell_type": "code",
   "execution_count": 22,
   "id": "d4cfe899",
   "metadata": {},
   "outputs": [
    {
     "name": "stdout",
     "output_type": "stream",
     "text": [
      "<class 'pandas.core.frame.DataFrame'>\n",
      "RangeIndex: 5000 entries, 0 to 4999\n",
      "Data columns (total 7 columns):\n",
      " #   Column          Non-Null Count  Dtype \n",
      "---  ------          --------------  ----- \n",
      " 0   order_id        5000 non-null   int64 \n",
      " 1   shop_id         5000 non-null   int64 \n",
      " 2   user_id         5000 non-null   int64 \n",
      " 3   order_amount    5000 non-null   int64 \n",
      " 4   total_items     5000 non-null   int64 \n",
      " 5   payment_method  5000 non-null   object\n",
      " 6   created_at      5000 non-null   object\n",
      "dtypes: int64(5), object(2)\n",
      "memory usage: 273.6+ KB\n",
      "None\n"
     ]
    }
   ],
   "source": [
    "print(df.info())"
   ]
  },
  {
   "cell_type": "markdown",
   "id": "c61e10a1",
   "metadata": {},
   "source": [
    "The output shows that there are 5,000 entries and no null values. "
   ]
  },
  {
   "cell_type": "markdown",
   "id": "90732318",
   "metadata": {},
   "source": [
    "#### 4. Reproduction of AOV Calculation Error in Previous Model and Re-evaluation of AOV"
   ]
  },
  {
   "cell_type": "code",
   "execution_count": 6,
   "id": "c012baee",
   "metadata": {
    "scrolled": false
   },
   "outputs": [
    {
     "data": {
      "text/html": [
       "<div>\n",
       "<style scoped>\n",
       "    .dataframe tbody tr th:only-of-type {\n",
       "        vertical-align: middle;\n",
       "    }\n",
       "\n",
       "    .dataframe tbody tr th {\n",
       "        vertical-align: top;\n",
       "    }\n",
       "\n",
       "    .dataframe thead th {\n",
       "        text-align: right;\n",
       "    }\n",
       "</style>\n",
       "<table border=\"1\" class=\"dataframe\">\n",
       "  <thead>\n",
       "    <tr style=\"text-align: right;\">\n",
       "      <th></th>\n",
       "      <th>order_id</th>\n",
       "      <th>shop_id</th>\n",
       "      <th>user_id</th>\n",
       "      <th>order_amount</th>\n",
       "      <th>total_items</th>\n",
       "      <th>payment_method</th>\n",
       "      <th>created_at</th>\n",
       "    </tr>\n",
       "  </thead>\n",
       "  <tbody>\n",
       "    <tr>\n",
       "      <th>0</th>\n",
       "      <td>1</td>\n",
       "      <td>53</td>\n",
       "      <td>746</td>\n",
       "      <td>224</td>\n",
       "      <td>2</td>\n",
       "      <td>cash</td>\n",
       "      <td>2017-03-13 12:36:56</td>\n",
       "    </tr>\n",
       "    <tr>\n",
       "      <th>1</th>\n",
       "      <td>2</td>\n",
       "      <td>92</td>\n",
       "      <td>925</td>\n",
       "      <td>90</td>\n",
       "      <td>1</td>\n",
       "      <td>cash</td>\n",
       "      <td>2017-03-03 17:38:52</td>\n",
       "    </tr>\n",
       "    <tr>\n",
       "      <th>2</th>\n",
       "      <td>3</td>\n",
       "      <td>44</td>\n",
       "      <td>861</td>\n",
       "      <td>144</td>\n",
       "      <td>1</td>\n",
       "      <td>cash</td>\n",
       "      <td>2017-03-14 4:23:56</td>\n",
       "    </tr>\n",
       "    <tr>\n",
       "      <th>3</th>\n",
       "      <td>4</td>\n",
       "      <td>18</td>\n",
       "      <td>935</td>\n",
       "      <td>156</td>\n",
       "      <td>1</td>\n",
       "      <td>credit_card</td>\n",
       "      <td>2017-03-26 12:43:37</td>\n",
       "    </tr>\n",
       "    <tr>\n",
       "      <th>4</th>\n",
       "      <td>5</td>\n",
       "      <td>18</td>\n",
       "      <td>883</td>\n",
       "      <td>156</td>\n",
       "      <td>1</td>\n",
       "      <td>credit_card</td>\n",
       "      <td>2017-03-01 4:35:11</td>\n",
       "    </tr>\n",
       "  </tbody>\n",
       "</table>\n",
       "</div>"
      ],
      "text/plain": [
       "   order_id  shop_id  user_id  order_amount  total_items payment_method  \\\n",
       "0         1       53      746           224            2           cash   \n",
       "1         2       92      925            90            1           cash   \n",
       "2         3       44      861           144            1           cash   \n",
       "3         4       18      935           156            1    credit_card   \n",
       "4         5       18      883           156            1    credit_card   \n",
       "\n",
       "            created_at  \n",
       "0  2017-03-13 12:36:56  \n",
       "1  2017-03-03 17:38:52  \n",
       "2   2017-03-14 4:23:56  \n",
       "3  2017-03-26 12:43:37  \n",
       "4   2017-03-01 4:35:11  "
      ]
     },
     "execution_count": 6,
     "metadata": {},
     "output_type": "execute_result"
    }
   ],
   "source": [
    "df.head()"
   ]
  },
  {
   "cell_type": "markdown",
   "id": "6c1a7e82",
   "metadata": {},
   "source": [
    "##### 4.a Reproduction of AOV Calculation Error in Previous Model"
   ]
  },
  {
   "cell_type": "code",
   "execution_count": 7,
   "id": "36352090",
   "metadata": {},
   "outputs": [
    {
     "name": "stdout",
     "output_type": "stream",
     "text": [
      "3145.13\n"
     ]
    }
   ],
   "source": [
    "# Reproduce AOV calculation error \n",
    "oa_sum = df['order_amount'].sum()\n",
    "ti_count = df['total_items'].count()\n",
    "aov = round(oa_sum/ti_count, 2)\n",
    "print(aov)"
   ]
  },
  {
   "cell_type": "markdown",
   "id": "bd15c4bf",
   "metadata": {},
   "source": [
    "Using .count() on total_items column returns 5,000 which is the number of rows in the csv file. 5,000 is less than the actual value of total_items sold as some rows contain > 1 items sold. Thus AOV was wrontly defined as the division of the total order amount by the number of rows. "
   ]
  },
  {
   "cell_type": "markdown",
   "id": "e0fe1812",
   "metadata": {},
   "source": [
    "##### 4.b Re-evaluate AOV with corrected total_items count"
   ]
  },
  {
   "cell_type": "code",
   "execution_count": 9,
   "id": "5860d0d2",
   "metadata": {},
   "outputs": [
    {
     "name": "stdout",
     "output_type": "stream",
     "text": [
      "357.92\n"
     ]
    }
   ],
   "source": [
    "# Return the actual AOV by changing ti_count from the number of rows to the sum of values in each order. \n",
    "ti_count = df['total_items'].sum()\n",
    "aov = round(oa_sum/ti_count, 2)\n",
    "print(aov)"
   ]
  },
  {
   "cell_type": "markdown",
   "id": "5adc3b2e",
   "metadata": {},
   "source": [
    "By changing .count() to .sum(), the average order value decreases to 357.92 which is a significantly more reasonable price than 3145.13 for shoes. "
   ]
  },
  {
   "cell_type": "markdown",
   "id": "836e9441",
   "metadata": {},
   "source": [
    "#### 5. Identifications of outliers for better metric"
   ]
  },
  {
   "cell_type": "code",
   "execution_count": 20,
   "id": "04df382d",
   "metadata": {},
   "outputs": [
    {
     "data": {
      "text/html": [
       "<div>\n",
       "<style scoped>\n",
       "    .dataframe tbody tr th:only-of-type {\n",
       "        vertical-align: middle;\n",
       "    }\n",
       "\n",
       "    .dataframe tbody tr th {\n",
       "        vertical-align: top;\n",
       "    }\n",
       "\n",
       "    .dataframe thead th {\n",
       "        text-align: right;\n",
       "    }\n",
       "</style>\n",
       "<table border=\"1\" class=\"dataframe\">\n",
       "  <thead>\n",
       "    <tr style=\"text-align: right;\">\n",
       "      <th></th>\n",
       "      <th>order_id</th>\n",
       "      <th>shop_id</th>\n",
       "      <th>user_id</th>\n",
       "      <th>order_amount</th>\n",
       "      <th>total_items</th>\n",
       "    </tr>\n",
       "  </thead>\n",
       "  <tbody>\n",
       "    <tr>\n",
       "      <th>count</th>\n",
       "      <td>5000.00</td>\n",
       "      <td>5000.00</td>\n",
       "      <td>5000.00</td>\n",
       "      <td>5000.00</td>\n",
       "      <td>5000.00</td>\n",
       "    </tr>\n",
       "    <tr>\n",
       "      <th>mean</th>\n",
       "      <td>2500.50</td>\n",
       "      <td>50.08</td>\n",
       "      <td>849.09</td>\n",
       "      <td>3145.13</td>\n",
       "      <td>8.79</td>\n",
       "    </tr>\n",
       "    <tr>\n",
       "      <th>std</th>\n",
       "      <td>1443.52</td>\n",
       "      <td>29.01</td>\n",
       "      <td>87.80</td>\n",
       "      <td>41282.54</td>\n",
       "      <td>116.32</td>\n",
       "    </tr>\n",
       "    <tr>\n",
       "      <th>min</th>\n",
       "      <td>1.00</td>\n",
       "      <td>1.00</td>\n",
       "      <td>607.00</td>\n",
       "      <td>90.00</td>\n",
       "      <td>1.00</td>\n",
       "    </tr>\n",
       "    <tr>\n",
       "      <th>25%</th>\n",
       "      <td>1250.75</td>\n",
       "      <td>24.00</td>\n",
       "      <td>775.00</td>\n",
       "      <td>163.00</td>\n",
       "      <td>1.00</td>\n",
       "    </tr>\n",
       "    <tr>\n",
       "      <th>50%</th>\n",
       "      <td>2500.50</td>\n",
       "      <td>50.00</td>\n",
       "      <td>849.00</td>\n",
       "      <td>284.00</td>\n",
       "      <td>2.00</td>\n",
       "    </tr>\n",
       "    <tr>\n",
       "      <th>75%</th>\n",
       "      <td>3750.25</td>\n",
       "      <td>75.00</td>\n",
       "      <td>925.00</td>\n",
       "      <td>390.00</td>\n",
       "      <td>3.00</td>\n",
       "    </tr>\n",
       "    <tr>\n",
       "      <th>max</th>\n",
       "      <td>5000.00</td>\n",
       "      <td>100.00</td>\n",
       "      <td>999.00</td>\n",
       "      <td>704000.00</td>\n",
       "      <td>2000.00</td>\n",
       "    </tr>\n",
       "  </tbody>\n",
       "</table>\n",
       "</div>"
      ],
      "text/plain": [
       "       order_id  shop_id  user_id  order_amount  total_items\n",
       "count   5000.00  5000.00  5000.00       5000.00      5000.00\n",
       "mean    2500.50    50.08   849.09       3145.13         8.79\n",
       "std     1443.52    29.01    87.80      41282.54       116.32\n",
       "min        1.00     1.00   607.00         90.00         1.00\n",
       "25%     1250.75    24.00   775.00        163.00         1.00\n",
       "50%     2500.50    50.00   849.00        284.00         2.00\n",
       "75%     3750.25    75.00   925.00        390.00         3.00\n",
       "max     5000.00   100.00   999.00     704000.00      2000.00"
      ]
     },
     "execution_count": 20,
     "metadata": {},
     "output_type": "execute_result"
    }
   ],
   "source": [
    "df.describe().round(2)"
   ]
  },
  {
   "cell_type": "markdown",
   "id": "94a4e9a7",
   "metadata": {},
   "source": [
    "The std for order_amount does not seem reasonable, therefore, there is likely and outlier in the data. The large variation in total_items is ignored since some buyers may have conducted a large order. The more important figure is the order_amount. To determine if the large variation in order amount is caused by a large number of total_items, the order_amount can be configured to represent a single item. "
   ]
  },
  {
   "cell_type": "code",
   "execution_count": 84,
   "id": "3a4417bc",
   "metadata": {},
   "outputs": [
    {
     "data": {
      "text/html": [
       "<div>\n",
       "<style scoped>\n",
       "    .dataframe tbody tr th:only-of-type {\n",
       "        vertical-align: middle;\n",
       "    }\n",
       "\n",
       "    .dataframe tbody tr th {\n",
       "        vertical-align: top;\n",
       "    }\n",
       "\n",
       "    .dataframe thead th {\n",
       "        text-align: right;\n",
       "    }\n",
       "</style>\n",
       "<table border=\"1\" class=\"dataframe\">\n",
       "  <thead>\n",
       "    <tr style=\"text-align: right;\">\n",
       "      <th></th>\n",
       "      <th>shop_id</th>\n",
       "      <th>single_order_amount</th>\n",
       "    </tr>\n",
       "  </thead>\n",
       "  <tbody>\n",
       "    <tr>\n",
       "      <th>77</th>\n",
       "      <td>78</td>\n",
       "      <td>25725.0</td>\n",
       "    </tr>\n",
       "    <tr>\n",
       "      <th>41</th>\n",
       "      <td>42</td>\n",
       "      <td>352.0</td>\n",
       "    </tr>\n",
       "    <tr>\n",
       "      <th>11</th>\n",
       "      <td>12</td>\n",
       "      <td>201.0</td>\n",
       "    </tr>\n",
       "    <tr>\n",
       "      <th>88</th>\n",
       "      <td>89</td>\n",
       "      <td>196.0</td>\n",
       "    </tr>\n",
       "    <tr>\n",
       "      <th>98</th>\n",
       "      <td>99</td>\n",
       "      <td>195.0</td>\n",
       "    </tr>\n",
       "  </tbody>\n",
       "</table>\n",
       "</div>"
      ],
      "text/plain": [
       "    shop_id  single_order_amount\n",
       "77       78              25725.0\n",
       "41       42                352.0\n",
       "11       12                201.0\n",
       "88       89                196.0\n",
       "98       99                195.0"
      ]
     },
     "execution_count": 84,
     "metadata": {},
     "output_type": "execute_result"
    }
   ],
   "source": [
    "df_copy = df.copy()\n",
    "df_copy = df_copy[['shop_id', 'user_id', 'order_amount', 'total_items']]\n",
    "\n",
    "df_copy['single_order_amount'] = df_copy['order_amount']/df_copy['total_items']\n",
    "\n",
    "df_copy.groupby(df_copy['shop_id'])['single_order_amount'].mean().reset_index().sort_values(by=['single_order_amount'], ascending = False).head()\n"
   ]
  },
  {
   "cell_type": "markdown",
   "id": "3371f428",
   "metadata": {},
   "source": [
    "Output shows that shop_id=78 has a price of 25,725 for a single item. Although such value may be due to shop_id=78 being a luxury provider, ignoring the data would provide a more accurate pool of data for general shoes. "
   ]
  },
  {
   "cell_type": "code",
   "execution_count": 101,
   "id": "840a8fe2",
   "metadata": {},
   "outputs": [
    {
     "name": "stdout",
     "output_type": "stream",
     "text": [
      "307.01\n"
     ]
    }
   ],
   "source": [
    "oa_sum = df_copy['order_amount'].sum()\n",
    "ti_count = df_copy['total_items'].sum()\n",
    "aov = round(oa_sum/ti_count, 2)\n",
    "print(aov)"
   ]
  },
  {
   "cell_type": "markdown",
   "id": "98cd69e7",
   "metadata": {},
   "source": [
    "After removing shop_id=78, an outlier, aov decreases to a more reasonable value. "
   ]
  },
  {
   "cell_type": "code",
   "execution_count": 100,
   "id": "e7239a02",
   "metadata": {},
   "outputs": [
    {
     "name": "stdout",
     "output_type": "stream",
     "text": [
      "152.47557529269278\n"
     ]
    }
   ],
   "source": [
    "aov = np.mean(df_copy[df_copy['shop_id'] != 78]['single_order_amount'])\n",
    "print(aov)"
   ]
  },
  {
   "cell_type": "markdown",
   "id": "923123af",
   "metadata": {},
   "source": [
    "If all stores only sold one pair of shoes, the aov would be 152.48, which is a reasonable price for a pair of shoes. "
   ]
  }
 ],
 "metadata": {
  "kernelspec": {
   "display_name": "Python 3 (ipykernel)",
   "language": "python",
   "name": "python3"
  },
  "language_info": {
   "codemirror_mode": {
    "name": "ipython",
    "version": 3
   },
   "file_extension": ".py",
   "mimetype": "text/x-python",
   "name": "python",
   "nbconvert_exporter": "python",
   "pygments_lexer": "ipython3",
   "version": "3.9.5"
  }
 },
 "nbformat": 4,
 "nbformat_minor": 5
}
